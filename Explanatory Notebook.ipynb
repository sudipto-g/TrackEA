{
 "cells": [
  {
   "cell_type": "markdown",
   "id": "instrumental-coral",
   "metadata": {},
   "source": [
    "# Explanatory Notebook"
   ]
  },
  {
   "cell_type": "markdown",
   "id": "shared-frequency",
   "metadata": {},
   "source": [
    "The purpose of this notebook is to break down the cryptic looking run.py script that runs the software.    \n",
    "(Note that the contents of run.py and this Explanatory Notebook is same).  "
   ]
  },
  {
   "cell_type": "markdown",
   "id": "thirty-convertible",
   "metadata": {},
   "source": [
    "First, importing the package that loads in the weights for the YOLOv3 model and initialises it"
   ]
  },
  {
   "cell_type": "code",
   "execution_count": null,
   "id": "insured-industry",
   "metadata": {},
   "outputs": [],
   "source": [
    "from multi_obj_tracker import *"
   ]
  },
  {
   "cell_type": "markdown",
   "id": "flying-dayton",
   "metadata": {},
   "source": [
    "Next, initialising the multiobject tracker on the initial frame captured in the video"
   ]
  },
  {
   "cell_type": "code",
   "execution_count": null,
   "id": "decent-meaning",
   "metadata": {},
   "outputs": [],
   "source": [
    "multiTracker = init_frame()"
   ]
  },
  {
   "cell_type": "markdown",
   "id": "specialized-courage",
   "metadata": {},
   "source": [
    "The next cell tracks objects through the remaining frames using the multi object Tracker that had been previously initialised.  \n",
    "In case of 'too' many tracking failures (greater than the failure_thresh), the tracking is reinitialised using the YOLOv3 model."
   ]
  },
  {
   "cell_type": "code",
   "execution_count": null,
   "id": "beginning-wrist",
   "metadata": {},
   "outputs": [],
   "source": [
    "init_and_track(multiTracker)"
   ]
  }
 ],
 "metadata": {
  "kernelspec": {
   "display_name": "Python 3",
   "language": "python",
   "name": "python3"
  },
  "language_info": {
   "codemirror_mode": {
    "name": "ipython",
    "version": 3
   },
   "file_extension": ".py",
   "mimetype": "text/x-python",
   "name": "python",
   "nbconvert_exporter": "python",
   "pygments_lexer": "ipython3",
   "version": "3.8.8"
  }
 },
 "nbformat": 4,
 "nbformat_minor": 5
}
