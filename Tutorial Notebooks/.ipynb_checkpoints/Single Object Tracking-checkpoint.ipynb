{
 "cells": [
  {
   "cell_type": "markdown",
   "metadata": {},
   "source": [
    "# Object Tracking Using OpenCV\n",
    "\n",
    "This notebook was authored by **Sudipto Ghosh**  \n",
    "It is meant to provide a brief (and fun!) introduction to a working implementation of object tracking."
   ]
  },
  {
   "cell_type": "markdown",
   "metadata": {},
   "source": [
    "Locating/following an object in successive frames of a motion images is known as Object Tracking.  \n",
    "Various object tracking algorithms track the displacement of one of several objects appearing in a scene, captured using cameras.  \n",
    "\n",
    "It finds a lot of application in real-life and real-time systems:\n",
    "\n",
    "1. In office occupancy management, to understand how the employees use the office: how they typically move throughout the building during the day, to analyze whether the employees keep social distancing. \n",
    "\n",
    "2. In retail space management, to optimize the way people shop in stores: building and analysing the track for every visitor could give better insight. It may also be used to examine how different space layouts lead to changes in sales: for example, if the shelves are moved, some areas of the shop may become less visited because they are off the main track.\n",
    "\n",
    "3. In video surveillance and security, it can be used to understand if unauthorized people or vehicles visit the restricted areas.  \n",
    "source : https://opencv.org/multiple-object-tracking-in-realtime/\n",
    "\n",
    "\n",
    "OpenCV provides several inbuilt APIs for Object Tracking, three (Boosting, MIL and KCF) of which are implemented below."
   ]
  },
  {
   "cell_type": "code",
   "execution_count": null,
   "metadata": {},
   "outputs": [],
   "source": [
    "#importing the relevant packages\n",
    "import cv2\n",
    "import sys"
   ]
  },
  {
   "cell_type": "code",
   "execution_count": null,
   "metadata": {},
   "outputs": [],
   "source": [
    "#checking the version, minor version and subminor version of the OpenCV library\n",
    "(major_ver, minor_ver, subminor_ver) = (cv2.__version__).split('.')\n",
    "print(\"cv2 major version : \", major_ver,\"  minor version : \",minor_ver,\" subminor version : \",subminor_ver)"
   ]
  },
  {
   "cell_type": "markdown",
   "metadata": {},
   "source": [
    "## Instantiating the Trackers and Tracking Object In Successive Frames\n",
    "\n",
    "This part of the code Instantiates the Object Tracker to be used based upon the OpenCV version of the system \n",
    "\n",
    "Reading video input from the Webcam (may be changed to read from any video file as well)\n",
    "Asking the user to select the Region of Interest (containing the object to be tracked) from the first frame of the input video captured.\n",
    "\n",
    "Henceforth, each time a frame is captured, the FPS rate is printed, the tracker is updated to track the object in the ROI, and:\n",
    "\n",
    "In case of Tracking success, a green rectangle is drawn around the detected object\n",
    "In case of Tracking failure, a message is displayed suitably\n",
    "\n",
    "Reference: https://www.learnopencv.com/object-tracking-using-opencv-cpp-python/\n"
   ]
  },
  {
   "cell_type": "code",
   "execution_count": null,
   "metadata": {},
   "outputs": [],
   "source": [
    "#setting up possible multi-object trackers\n",
    "tracker_types = ['BOOSTING', 'MIL','KCF', 'TLD', 'MEDIANFLOW', 'GOTURN', 'MOSSE', 'CSRT']"
   ]
  },
  {
   "cell_type": "code",
   "execution_count": null,
   "metadata": {},
   "outputs": [],
   "source": [
    "def instantiate_tracker(tracker_type):\n",
    "    '''\n",
    "    This function is used to instantiate an Object Tracker and return it\n",
    "    \n",
    "    arguments:\n",
    "    tracker_type - accepts the name of tracker whose instance is to be created\n",
    "    \n",
    "    returns: \n",
    "    tracker - an instance of the required tracker\n",
    "    '''\n",
    "    \n",
    "    #Instantiate the tracker which will be used\n",
    "    if int(minor_ver) < 3:\n",
    "        tracker = cv2.Tracker_create(tracker_type)\n",
    "    else:\n",
    "        if tracker_type == 'BOOSTING':\n",
    "            tracker = cv2.TrackerBoosting_create()\n",
    "        if tracker_type == 'MIL':\n",
    "            tracker = cv2.TrackerMIL_create()\n",
    "        if tracker_type == 'KCF':\n",
    "            tracker = cv2.TrackerKCF_create()\n",
    "        if tracker_type == 'TLD':\n",
    "            tracker = cv2.TrackerTLD_create()\n",
    "        if tracker_type == 'MEDIANFLOW':\n",
    "            tracker = cv2.TrackerMedianFlow_create()\n",
    "        if tracker_type == 'GOTURN':\n",
    "            tracker = cv2.TrackerGOTURN_create()\n",
    "        if tracker_type == 'MOSSE':\n",
    "            tracker = cv2.TrackerMOSSE_create()\n",
    "        if tracker_type == \"CSRT\":\n",
    "            tracker = cv2.TrackerCSRT_create()\n",
    "    \n",
    "    return tracker"
   ]
  },
  {
   "cell_type": "code",
   "execution_count": null,
   "metadata": {},
   "outputs": [],
   "source": [
    "def select_ROI():\n",
    "    '''\n",
    "    This function captures an initial frame and prompts the user to draw a bounding box \n",
    "    around the Region Of Interest\n",
    "    \n",
    "    arguments:\n",
    "    none \n",
    "    \n",
    "    returns:\n",
    "    bbox  - the bounding box drawn by the user\n",
    "    frame - the initial frame captured by cv2 module\n",
    "    video - the opened webcam instance descriptor\n",
    "    '''\n",
    "    \n",
    "    device_index = 0 # 0 implies webcam\n",
    "    \n",
    "    # Reading video from webcam\n",
    "    video = cv2.VideoCapture(device_index)\n",
    "\n",
    "    # Attempting to reopen the video if video not opened.\n",
    "    if not video.isOpened():\n",
    "        print (\"Could not open video. Attempt to re-open\")\n",
    "        video.open(device_index)\n",
    "\n",
    "    # Reading the first frame \n",
    "    ok, frame = video.read()\n",
    "    if not ok:\n",
    "        print ('Cannot read video')\n",
    "        sys.exit()\n",
    "    \n",
    "    # selecting a different bounding box or an ROI\n",
    "    bbox = cv2.selectROI(frame, False)\n",
    "    \n",
    "    return bbox, frame, video"
   ]
  },
  {
   "cell_type": "code",
   "execution_count": null,
   "metadata": {},
   "outputs": [],
   "source": [
    "def init_and_track(bbox, frame, video, tracker):\n",
    "    '''\n",
    "    This module initialises the tracker and thereby continues tracking through the remaining frames\n",
    "    \n",
    "    arguments:\n",
    "    bbox    - the bounding box drawn by the user around the ROI\n",
    "    frame   - the initial frame captured by cv2 module\n",
    "    video   - the opened webcam instance descriptor\n",
    "    tracker - the instance of the required tracker\n",
    "    \n",
    "    returns:\n",
    "    none\n",
    "    '''\n",
    "    \n",
    "    # Initializing tracker with first frame and bounding box\n",
    "    ok = tracker.init(frame, bbox)\n",
    "\n",
    "    while True:\n",
    "        # Reading a new frame\n",
    "        ok, frame = video.read()\n",
    "        if not ok:\n",
    "            break\n",
    "        \n",
    "        # Starting timer\n",
    "        timer = cv2.getTickCount()\n",
    "\n",
    "        # Updating tracker to track the object within the ROI\n",
    "        ok, bbox = tracker.update(frame)\n",
    "\n",
    "        # Calculate Frames per second (FPS)\n",
    "        fps = cv2.getTickFrequency() / (cv2.getTickCount() - timer);\n",
    "\n",
    "        # Draw bounding box if Tracking is successful\n",
    "        if ok:\n",
    "            # Tracking success\n",
    "            p1 = (int(bbox[0]), int(bbox[1]))\n",
    "            p2 = (int(bbox[0] + bbox[2]), int(bbox[1] + bbox[3]))\n",
    "            cv2.rectangle(frame, p1, p2, (255,0,0), 2, 1)\n",
    "        else :\n",
    "            # Tracking failure\n",
    "            cv2.putText(frame, \"Tracking failure detected\", (100,80), cv2.FONT_HERSHEY_SIMPLEX, 0.75,(0,0,255),2)\n",
    "\n",
    "        # Display tracker type on frame\n",
    "        cv2.putText(frame, tracker_type + \" Tracker\", (100,20), cv2.FONT_HERSHEY_SIMPLEX, 0.75, (50,170,50),2);\n",
    "    \n",
    "        # Display FPS on frame\n",
    "        cv2.putText(frame, \"FPS : \" + str(int(fps)), (100,50), cv2.FONT_HERSHEY_SIMPLEX, 0.75, (50,170,50), 2);\n",
    "\n",
    "        # Display result\n",
    "        cv2.imshow(\"Tracking\", frame)\n",
    "\n",
    "        # Exit if ESC pressed\n",
    "        k = cv2.waitKey(1) & 0xff\n",
    "        if k == 27 : break\n",
    "            \n",
    "    cv2.destroyAllWindows()\n",
    "    video.release()\n",
    "    return"
   ]
  },
  {
   "cell_type": "markdown",
   "metadata": {},
   "source": [
    "## Choosing a tracker and instantiating it"
   ]
  },
  {
   "cell_type": "code",
   "execution_count": null,
   "metadata": {},
   "outputs": [],
   "source": [
    "#Selecting the tracker -- change the index number to select different trackers\n",
    "tracker_type = tracker_types[3]\n",
    "\n",
    "#Instantiate the tracker by using the instantiate_tracker function \n",
    "tracker = instantiate_tracker(tracker_type=tracker_type)"
   ]
  },
  {
   "cell_type": "markdown",
   "metadata": {},
   "source": [
    "## Tracking Objects using Webcam\n",
    "Before running the following cells, please ensure that you have a webcam on the device this notebook is being run on.\n",
    "Also, ensure that the webcam is not in use by some other application, and that you have the necessary permissions for allowing OpenCV to access it.  \n",
    "  \n",
    "    \n",
    "    \n",
    "* After selecting the ROI, please press ESC to exit the ROI selector\n",
    "* Next, the tracking UI will open up. Observe the tracking and then at the end of it, press ESC to exit"
   ]
  },
  {
   "cell_type": "code",
   "execution_count": null,
   "metadata": {},
   "outputs": [],
   "source": [
    "bbox, frame, video = select_ROI()\n",
    "init_and_track(bbox, frame, video, tracker)"
   ]
  }
 ],
 "metadata": {
  "kernelspec": {
   "display_name": "Python 3 (ipykernel)",
   "language": "python",
   "name": "python3"
  },
  "language_info": {
   "codemirror_mode": {
    "name": "ipython",
    "version": 3
   },
   "file_extension": ".py",
   "mimetype": "text/x-python",
   "name": "python",
   "nbconvert_exporter": "python",
   "pygments_lexer": "ipython3",
   "version": "3.8.10"
  }
 },
 "nbformat": 4,
 "nbformat_minor": 4
}
